{
 "cells": [
  {
   "cell_type": "markdown",
   "id": "be78b739-c178-48d4-9185-1ef2a425f1f8",
   "metadata": {},
   "source": [
    "* Q1. What is multiprocessing in python? Why is it useful?\n",
    "* Q2. What are the differences between multiprocessing and multithreading?\n",
    "* Q3. Write a python code to create a process using the multiprocessing module.\n",
    "* Q4. What is a multiprocessing pool in python? Why is it used?\n",
    "* Q5. How can we create a pool of worker processes in python using the multiprocessing module?\n",
    "* Q6. Write a python program to create 4 processes, each process should print a different number using the\n",
    "     multiprocessing module in python."
   ]
  },
  {
   "cell_type": "markdown",
   "id": "94b7f0ad-0786-47fa-ac8b-a52cd51cb5b8",
   "metadata": {
    "jp-MarkdownHeadingCollapsed": true,
    "tags": []
   },
   "source": [
    "### Q1. What is multiprocessing in python? Why is it useful?"
   ]
  },
  {
   "cell_type": "markdown",
   "id": "568dd8ec-78ea-439a-abb8-8c31d1d84704",
   "metadata": {},
   "source": [
    "ANS:- Multiprocessing is a module that provides support for creating and managing multiple processes.It is useful because  multiprocessing is a module that provides support for creating and managing multiple processes"
   ]
  },
  {
   "cell_type": "markdown",
   "id": "7e375853-b9bc-4821-ac00-8b5f4a04576d",
   "metadata": {
    "jp-MarkdownHeadingCollapsed": true,
    "tags": []
   },
   "source": [
    "### Q2. What are the differences between multiprocessing and multithreading?"
   ]
  },
  {
   "cell_type": "markdown",
   "id": "941b329c-895f-4404-9b6f-4936d4e189b4",
   "metadata": {},
   "source": [
    "ANS:-The main difference between multiprocessing and multithreading is that multiprocessing allows running tasks in separate processes with their own memory space, while multithreading runs tasks within the same process and shares the same memory space."
   ]
  },
  {
   "cell_type": "markdown",
   "id": "98b48246-0d86-4a7c-8cd5-5c006e95c90a",
   "metadata": {
    "jp-MarkdownHeadingCollapsed": true,
    "tags": []
   },
   "source": [
    "### Q3. Write a python code to create a process using the multiprocessing module."
   ]
  },
  {
   "cell_type": "code",
   "execution_count": 3,
   "id": "a137d655-eaee-4160-9edb-8a3d58596fb4",
   "metadata": {},
   "outputs": [
    {
     "name": "stdout",
     "output_type": "stream",
     "text": [
      "This is my main programme\n",
      "This is my Multiprocessing programme\n"
     ]
    }
   ],
   "source": [
    "import multiprocessing\n",
    "def test():\n",
    "    print(\"This is my Multiprocessing programme\")\n",
    "    \n",
    "if __name__== '__main__':\n",
    "    m = multiprocessing.Process(target=test)\n",
    "    print(\"This is my main programme\")\n",
    "    m.start()\n",
    "    m.join()"
   ]
  },
  {
   "cell_type": "markdown",
   "id": "d72f8a7e-1085-4c42-8bc0-5ae8ba2c73b7",
   "metadata": {
    "jp-MarkdownHeadingCollapsed": true,
    "tags": []
   },
   "source": [
    "### Q4. What is a multiprocessing pool in python? Why is it used?"
   ]
  },
  {
   "cell_type": "markdown",
   "id": "8d0d6778-0a64-419a-a50c-35173ce957b4",
   "metadata": {},
   "source": [
    "ANS:-Multiprocessing pool in Python helps you run multiple tasks at the same time using different processes, making the most of your computer's CPU power and speeding up the execution of those tasks. It manages the processes for you, distributing the work and making it easier to handle parallel processing."
   ]
  },
  {
   "cell_type": "markdown",
   "id": "723034ec-9d6d-42b4-86ae-88cc95f4cfaa",
   "metadata": {
    "jp-MarkdownHeadingCollapsed": true,
    "tags": []
   },
   "source": [
    "### Q5. How can we create a pool of worker processes in python using the multiprocessing module?"
   ]
  },
  {
   "cell_type": "markdown",
   "id": "3fc544fa-eb4b-493b-8455-3d11fd7cb25b",
   "metadata": {},
   "source": [
    "* Import multiprocessing\n",
    "    * Write the funtion.\n",
    "      * Create the pool inside main\n",
    "        * Than map the variables with the function through map function\n"
   ]
  },
  {
   "cell_type": "code",
   "execution_count": 4,
   "id": "f8dace30-44ae-4979-8ce9-d650a05d545d",
   "metadata": {},
   "outputs": [],
   "source": [
    "def sqs(r):\n",
    "    return r**2\n",
    "import time"
   ]
  },
  {
   "cell_type": "code",
   "execution_count": null,
   "id": "0e1a5297-1319-4908-b4d1-704bf83fb81b",
   "metadata": {},
   "outputs": [],
   "source": [
    "if __name__== '__main__':\n",
    "    with multiprocessing.Pool(processes=4) as pool:\n",
    "        out=pool.map(sqs,[1,2,3,4,5,6,7,8,9])\n",
    "        print(out,time.ctime())\n",
    "    with multiprocessing.Pool(processes=1) as pool1:\n",
    "        out1=pool1.map(sqs,[1,2,3,4,5,6,7,8,9])\n",
    "        print(out1,time.ctime())"
   ]
  },
  {
   "cell_type": "markdown",
   "id": "39a74d8f-d64f-40a4-8315-ab3537226996",
   "metadata": {
    "jp-MarkdownHeadingCollapsed": true,
    "tags": []
   },
   "source": [
    "### Q6. Write a python program to create 4 processes, each process should print a different number using the multiprocessing module in python."
   ]
  },
  {
   "cell_type": "code",
   "execution_count": 2,
   "id": "c9da3bf1-514c-4db4-9c7e-11ed5b19c8b8",
   "metadata": {},
   "outputs": [],
   "source": [
    "def printi(r):\n",
    "    print(f\"{r} this is printed number\")"
   ]
  },
  {
   "cell_type": "code",
   "execution_count": 16,
   "id": "05b7e91f-4ca1-45b5-bdfb-0644304bdf52",
   "metadata": {},
   "outputs": [
    {
     "name": "stdout",
     "output_type": "stream",
     "text": [
      "1 this is printed number2 this is printed number4 this is printed number3 this is printed number\n",
      "\n",
      "\n",
      "\n",
      "[None, None, None, None]\n",
      "\n"
     ]
    }
   ],
   "source": [
    "with multiprocessing.Pool(processes=4) as pool:\n",
    "    out=pool.map(printi,[i for i in range(1,5)])\n",
    "    print(out)"
   ]
  }
 ],
 "metadata": {
  "kernelspec": {
   "display_name": "Python 3 (ipykernel)",
   "language": "python",
   "name": "python3"
  },
  "language_info": {
   "codemirror_mode": {
    "name": "ipython",
    "version": 3
   },
   "file_extension": ".py",
   "mimetype": "text/x-python",
   "name": "python",
   "nbconvert_exporter": "python",
   "pygments_lexer": "ipython3",
   "version": "3.10.8"
  }
 },
 "nbformat": 4,
 "nbformat_minor": 5
}
